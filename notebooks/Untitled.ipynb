{
 "cells": [
  {
   "cell_type": "code",
   "execution_count": 1,
   "metadata": {
    "collapsed": true
   },
   "outputs": [],
   "source": [
    "MYPROJECT = '../'\n",
    "import os, sys\n",
    "sys.path.insert(0, MYPROJECT)\n",
    "os.environ.setdefault(\"DJANGO_SETTINGS_MODULE\", \"settings.py\")\n",
    "import django\n",
    "django.setup()"
   ]
  },
  {
   "cell_type": "code",
   "execution_count": 5,
   "metadata": {
    "collapsed": true
   },
   "outputs": [],
   "source": [
    "from ambiente.models import Ambiente, Evento\n",
    "from django.contrib.auth.models import Permission, User"
   ]
  },
  {
   "cell_type": "code",
   "execution_count": 10,
   "metadata": {},
   "outputs": [],
   "source": [
    "eventos_diego = Evento.objects.filter(responsavel=User.objects.get(pk=3))"
   ]
  },
  {
   "cell_type": "code",
   "execution_count": 43,
   "metadata": {},
   "outputs": [
    {
     "data": {
      "text/plain": [
       "<QuerySet [<Evento: Fazer testes>, <Evento: Fazer testes>, <Evento: Fazer testes>, <Evento: Fazer testes>, <Evento: Fazer testes>]>"
      ]
     },
     "execution_count": 43,
     "metadata": {},
     "output_type": "execute_result"
    }
   ],
   "source": [
    "eventos_diego.filter(dia_evento__month=10)"
   ]
  },
  {
   "cell_type": "code",
   "execution_count": 37,
   "metadata": {
    "collapsed": true
   },
   "outputs": [],
   "source": [
    "from datetime import date\n",
    "from dateutil.relativedelta import relativedelta"
   ]
  },
  {
   "cell_type": "code",
   "execution_count": 38,
   "metadata": {},
   "outputs": [
    {
     "data": {
      "text/plain": [
       "10"
      ]
     },
     "execution_count": 38,
     "metadata": {},
     "output_type": "execute_result"
    }
   ],
   "source": [
    "date.today().month"
   ]
  },
  {
   "cell_type": "code",
   "execution_count": 46,
   "metadata": {},
   "outputs": [
    {
     "data": {
      "text/plain": [
       "[{'eventos': 5, 'mes': datetime.date(2017, 10, 28), 'validadas': 0},\n",
       " {'eventos': 1, 'mes': datetime.date(2017, 9, 28), 'validadas': 0},\n",
       " {'eventos': 0, 'mes': datetime.date(2017, 8, 28), 'validadas': 0},\n",
       " {'eventos': 0, 'mes': datetime.date(2017, 7, 28), 'validadas': 0},\n",
       " {'eventos': 0, 'mes': datetime.date(2017, 6, 28), 'validadas': 0},\n",
       " {'eventos': 0, 'mes': datetime.date(2017, 5, 28), 'validadas': 0},\n",
       " {'eventos': 0, 'mes': datetime.date(2017, 4, 28), 'validadas': 0},\n",
       " {'eventos': 0, 'mes': datetime.date(2017, 3, 28), 'validadas': 0},\n",
       " {'eventos': 0, 'mes': datetime.date(2017, 2, 28), 'validadas': 0},\n",
       " {'eventos': 0, 'mes': datetime.date(2017, 1, 28), 'validadas': 0},\n",
       " {'eventos': 0, 'mes': datetime.date(2016, 12, 28), 'validadas': 0},\n",
       " {'eventos': 0, 'mes': datetime.date(2016, 11, 28), 'validadas': 0},\n",
       " {'eventos': 0, 'mes': datetime.date(2016, 10, 28), 'validadas': 0}]"
      ]
     },
     "execution_count": 46,
     "metadata": {},
     "output_type": "execute_result"
    }
   ],
   "source": [
    "l = range(0,13)\n",
    "lista = []\n",
    "hj = date.today()\n",
    "for i in l:\n",
    "    a = hj - relativedelta(months=i)\n",
    "    b = {}\n",
    "    b['mes'] = a\n",
    "    soma = 0\n",
    "    for e in eventos_diego.filter(dia_evento__month=a.month, dia_evento__year=a.year):\n",
    "        if e.action_rules() == 2:\n",
    "            soma += 1\n",
    "    b['validadas'] = soma\n",
    "    b['eventos'] = eventos_diego.filter(dia_evento__month=a.month, dia_evento__year=a.year).count()\n",
    "    lista.append(b)\n",
    "\n",
    "lista"
   ]
  }
 ],
 "metadata": {
  "kernelspec": {
   "display_name": "Django Shell-Plus",
   "language": "python",
   "name": "django_extensions"
  },
  "language_info": {
   "codemirror_mode": {
    "name": "ipython",
    "version": 3
   },
   "file_extension": ".py",
   "mimetype": "text/x-python",
   "name": "python",
   "nbconvert_exporter": "python",
   "pygments_lexer": "ipython3",
   "version": "3.6.3"
  }
 },
 "nbformat": 4,
 "nbformat_minor": 2
}
