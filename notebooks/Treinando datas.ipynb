{
 "cells": [
  {
   "cell_type": "code",
   "execution_count": 26,
   "metadata": {
    "collapsed": true
   },
   "outputs": [],
   "source": [
    "from django.utils import timezone\n",
    "from datetime import date\n",
    "from dateutil.relativedelta import relativedelta"
   ]
  },
  {
   "cell_type": "code",
   "execution_count": 27,
   "metadata": {},
   "outputs": [
    {
     "data": {
      "text/plain": [
       "datetime.date(2017, 9, 1)"
      ]
     },
     "execution_count": 27,
     "metadata": {},
     "output_type": "execute_result"
    }
   ],
   "source": [
    "date.today()"
   ]
  },
  {
   "cell_type": "code",
   "execution_count": 30,
   "metadata": {},
   "outputs": [
    {
     "name": "stdout",
     "output_type": "stream",
     "text": [
      "20\n",
      "2017-03-01\n",
      "2017-07-01\n",
      "2017-11-01\n",
      "2018-03-01\n",
      "2018-07-01\n"
     ]
    }
   ],
   "source": [
    "\n",
    "data1 = date(2017, 3, 1)\n",
    "data2 = date(2018, 11, 5)\n",
    "\n",
    "delta = data2 - data1\n",
    "\n",
    "meses = int(delta.days /30)\n",
    "#m = relativedelta(months=meses)\n",
    "\n",
    "print(int(meses))\n",
    "\n",
    "for data in range(0, meses, 4):\n",
    "    data = data1 + relativedelta(months=data)\n",
    "    # d = data1.replace(month=data + meses)\n",
    "    print(data)"
   ]
  }
 ],
 "metadata": {
  "kernelspec": {
   "display_name": "Django Shell-Plus",
   "language": "python",
   "name": "django_extensions"
  },
  "language_info": {
   "codemirror_mode": {
    "name": "ipython",
    "version": 3
   },
   "file_extension": ".py",
   "mimetype": "text/x-python",
   "name": "python",
   "nbconvert_exporter": "python",
   "pygments_lexer": "ipython3",
   "version": "3.6.2"
  }
 },
 "nbformat": 4,
 "nbformat_minor": 2
}
