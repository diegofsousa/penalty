{
 "cells": [
  {
   "cell_type": "code",
   "execution_count": 1,
   "metadata": {
    "collapsed": true
   },
   "outputs": [],
   "source": [
    "MYPROJECT = '../'\n",
    "import os, sys\n",
    "sys.path.insert(0, MYPROJECT)\n",
    "os.environ.setdefault(\"DJANGO_SETTINGS_MODULE\", \"settings.py\")\n",
    "import django\n",
    "django.setup()"
   ]
  },
  {
   "cell_type": "code",
   "execution_count": 2,
   "metadata": {
    "collapsed": true
   },
   "outputs": [],
   "source": [
    "from core.models import User\n",
    "from ambiente.models import Ambiente, Evento, date, timezone"
   ]
  },
  {
   "cell_type": "code",
   "execution_count": 20,
   "metadata": {},
   "outputs": [
    {
     "name": "stdout",
     "output_type": "stream",
     "text": [
      "The darks\n"
     ]
    }
   ],
   "source": [
    "admin = User.objects.get(pk=1)\n",
    "diego = User.objects.get(pk=2)\n",
    "ambiente = Ambiente.objects.get(pk=2)\n",
    "print(ambiente)"
   ]
  },
  {
   "cell_type": "code",
   "execution_count": 21,
   "metadata": {
    "collapsed": true
   },
   "outputs": [],
   "source": [
    "# criando um registro múltiplo\n",
    "\n",
    "datafim = date(2017, 9, 10)\n",
    "\n",
    "evento = Evento()\n",
    "evento.nome = \"Três em três dias\"\n",
    "evento.ambiente = ambiente\n",
    "evento.criador = admin\n",
    "evento.responsavel = admin\n",
    "evento.descricao = \"Descrição do evento\"\n",
    "evento.data_fim = datafim\n",
    "evento.id_agrupador = 1\n",
    "evento.valor_multa = 2.\n",
    "evento.quantidade_intervalos_repeticao = 3\n",
    "evento.intervalo = \"D\""
   ]
  },
  {
   "cell_type": "code",
   "execution_count": 22,
   "metadata": {
    "collapsed": true
   },
   "outputs": [],
   "source": [
    "evento.multipublish()"
   ]
  },
  {
   "cell_type": "code",
   "execution_count": 23,
   "metadata": {},
   "outputs": [
    {
     "data": {
      "text/plain": [
       "<QuerySet [<Evento: Três em três dias>, <Evento: Três em três dias>, <Evento: Três em três dias>]>"
      ]
     },
     "execution_count": 23,
     "metadata": {},
     "output_type": "execute_result"
    }
   ],
   "source": [
    "Evento.objects.all()"
   ]
  },
  {
   "cell_type": "code",
   "execution_count": 24,
   "metadata": {
    "collapsed": true
   },
   "outputs": [],
   "source": [
    "# criando um registro múltiplo\n",
    "\n",
    "datafim = date(2017, 9, 20)\n",
    "\n",
    "evento = Evento()\n",
    "evento.nome = \"Semanal\"\n",
    "evento.ambiente = ambiente\n",
    "evento.criador = admin\n",
    "evento.responsavel = diego\n",
    "evento.descricao = \"Descrição do evento\"\n",
    "evento.data_fim = datafim\n",
    "evento.id_agrupador = 1\n",
    "evento.valor_multa = 2.\n",
    "evento.quantidade_intervalos_repeticao = 1\n",
    "evento.intervalo = \"S\""
   ]
  },
  {
   "cell_type": "code",
   "execution_count": 25,
   "metadata": {
    "collapsed": true
   },
   "outputs": [],
   "source": [
    "evento.multipublish()"
   ]
  },
  {
   "cell_type": "code",
   "execution_count": 26,
   "metadata": {},
   "outputs": [
    {
     "data": {
      "text/plain": [
       "<QuerySet [<Evento: Três em três dias>, <Evento: Três em três dias>, <Evento: Três em três dias>, <Evento: Semanal>, <Evento: Semanal>, <Evento: Semanal>]>"
      ]
     },
     "execution_count": 26,
     "metadata": {},
     "output_type": "execute_result"
    }
   ],
   "source": [
    "Evento.objects.all()"
   ]
  },
  {
   "cell_type": "code",
   "execution_count": 27,
   "metadata": {
    "collapsed": true
   },
   "outputs": [],
   "source": [
    "datafim = date(2018, 3, 20)\n",
    "\n",
    "evento = Evento()\n",
    "evento.nome = \"Mensal\"\n",
    "evento.criador = admin\n",
    "evento.ambiente = ambiente\n",
    "evento.responsavel = diego\n",
    "evento.descricao = \"Descrição do evento\"\n",
    "evento.data_fim = datafim\n",
    "evento.id_agrupador = 1\n",
    "evento.valor_multa = 2.\n",
    "evento.quantidade_intervalos_repeticao = 1\n",
    "evento.intervalo = \"M\""
   ]
  },
  {
   "cell_type": "code",
   "execution_count": 28,
   "metadata": {
    "collapsed": true
   },
   "outputs": [],
   "source": [
    "evento.multipublish()"
   ]
  },
  {
   "cell_type": "code",
   "execution_count": 29,
   "metadata": {},
   "outputs": [
    {
     "data": {
      "text/plain": [
       "<QuerySet [<Evento: Três em três dias>, <Evento: Três em três dias>, <Evento: Três em três dias>, <Evento: Semanal>, <Evento: Semanal>, <Evento: Semanal>, <Evento: Mensal>, <Evento: Mensal>, <Evento: Mensal>, <Evento: Mensal>, <Evento: Mensal>, <Evento: Mensal>]>"
      ]
     },
     "execution_count": 29,
     "metadata": {},
     "output_type": "execute_result"
    }
   ],
   "source": [
    "Evento.objects.all()"
   ]
  },
  {
   "cell_type": "code",
   "execution_count": 30,
   "metadata": {
    "collapsed": true
   },
   "outputs": [],
   "source": [
    "from django.db.models import Count\n",
    "#Publisher.objects.annotate(num_books=Count('book'))\n",
    "#Members.objects.values('designation').annotate(dcount=Count('designation'))\n",
    "\n",
    "consulta = Evento.objects.filter(ambiente=2).values('nome', 'criador', 'responsavel', 'descricao', 'data_fim', 'valor_multa', 'intervalo').annotate(dcount=Count('id_agrupador'))"
   ]
  },
  {
   "cell_type": "code",
   "execution_count": 33,
   "metadata": {},
   "outputs": [
    {
     "data": {
      "text/plain": [
       "{'criador': 1,\n",
       " 'data_fim': datetime.date(2018, 3, 20),\n",
       " 'dcount': 6,\n",
       " 'descricao': 'Descrição do evento',\n",
       " 'intervalo': 'M',\n",
       " 'nome': 'Mensal',\n",
       " 'responsavel': 2,\n",
       " 'valor_multa': 2.0}"
      ]
     },
     "execution_count": 33,
     "metadata": {},
     "output_type": "execute_result"
    }
   ],
   "source": [
    "consulta[0]"
   ]
  }
 ],
 "metadata": {
  "kernelspec": {
   "display_name": "Django Shell-Plus",
   "language": "python",
   "name": "django_extensions"
  },
  "language_info": {
   "codemirror_mode": {
    "name": "ipython",
    "version": 3
   },
   "file_extension": ".py",
   "mimetype": "text/x-python",
   "name": "python",
   "nbconvert_exporter": "python",
   "pygments_lexer": "ipython3",
   "version": "3.6.2"
  }
 },
 "nbformat": 4,
 "nbformat_minor": 2
}
